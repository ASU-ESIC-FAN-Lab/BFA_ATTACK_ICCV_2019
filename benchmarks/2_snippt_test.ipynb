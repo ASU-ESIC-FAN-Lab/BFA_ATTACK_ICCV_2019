{
 "cells": [
  {
   "cell_type": "code",
   "execution_count": 1,
   "metadata": {},
   "outputs": [],
   "source": [
    "import torch"
   ]
  },
  {
   "cell_type": "code",
   "execution_count": 19,
   "metadata": {},
   "outputs": [],
   "source": [
    "def int2bin(input, num_bits):\n",
    "    mask = 2**num_bits - 1\n",
    "    output = input.clone()\n",
    "    output[input.lt(0)] = 2**(num_bits) + output[input.lt(0)]\n",
    "    return output\n",
    "    \n",
    "def bin2int(input_value, num_bits):\n",
    "    '''\n",
    "    convert an unsigned input integer to a two's complement signed interger.\n",
    "    Calculates a two's complement integer from the given input value's bits.\n",
    "    '''\n",
    "    mask = 2**(num_bits - 1) -1\n",
    "    return -(input_value & ~mask) + (input_value & mask)"
   ]
  },
  {
   "cell_type": "code",
   "execution_count": 29,
   "metadata": {},
   "outputs": [
    {
     "name": "stdout",
     "output_type": "stream",
     "text": [
      "tensor([0, 1, 2, 3, 4, 5, 6, 7], dtype=torch.int8)\n"
     ]
    }
   ],
   "source": [
    "x_int = torch.Tensor([0, 1, 2, 3, -4, -3, -2, -1])\n",
    "tmp = int2bin(x_int.char(),3)\n",
    "print(tmp)"
   ]
  },
  {
   "cell_type": "code",
   "execution_count": 30,
   "metadata": {},
   "outputs": [
    {
     "data": {
      "text/plain": [
       "tensor([ 0,  1,  2,  3, -4, -3, -2, -1], dtype=torch.int8)"
      ]
     },
     "execution_count": 30,
     "metadata": {},
     "output_type": "execute_result"
    }
   ],
   "source": [
    "bin2int(tmp, 3)"
   ]
  },
  {
   "cell_type": "code",
   "execution_count": 32,
   "metadata": {},
   "outputs": [
    {
     "name": "stdout",
     "output_type": "stream",
     "text": [
      "tensor([126., 127., 128., 129., 130., 254., 255.])\n"
     ]
    }
   ],
   "source": [
    "# other testbenchs\n",
    "x_int = torch.Tensor([126, 127, -128, -127, -126, -2, -1])\n",
    "tmp = int2bin(x_int,8)\n",
    "print(tmp)"
   ]
  },
  {
   "cell_type": "code",
   "execution_count": 33,
   "metadata": {},
   "outputs": [
    {
     "data": {
      "text/plain": [
       "tensor([1, 1, 1, 1, 1, 1, 1], dtype=torch.uint8)"
      ]
     },
     "execution_count": 33,
     "metadata": {},
     "output_type": "execute_result"
    }
   ],
   "source": [
    "bin2int(tmp.char(), 8).float() == x_int"
   ]
  },
  {
   "cell_type": "code",
   "execution_count": 34,
   "metadata": {},
   "outputs": [],
   "source": [
    "x = torch.rand(64,3,3,3)"
   ]
  },
  {
   "cell_type": "code",
   "execution_count": 36,
   "metadata": {},
   "outputs": [
    {
     "data": {
      "text/plain": [
       "tensor([0.6309, 0.3736, 0.8705,  ..., 0.5366, 0.6102, 0.1138])"
      ]
     },
     "execution_count": 36,
     "metadata": {},
     "output_type": "execute_result"
    }
   ],
   "source": [
    "x.view(-1)."
   ]
  },
  {
   "cell_type": "code",
   "execution_count": 65,
   "metadata": {},
   "outputs": [
    {
     "name": "stdout",
     "output_type": "stream",
     "text": [
      "tensor([0.5674, 0.9832, 0.5973, 0.6154])\n"
     ]
    }
   ],
   "source": [
    "x = torch.rand(4)\n",
    "print(x)"
   ]
  },
  {
   "cell_type": "code",
   "execution_count": 71,
   "metadata": {},
   "outputs": [
    {
     "name": "stdout",
     "output_type": "stream",
     "text": [
      "tensor([[0.3486],\n",
      "        [0.6658],\n",
      "        [0.6447],\n",
      "        [0.1507],\n",
      "        [0.0484],\n",
      "        [0.9813],\n",
      "        [0.2762],\n",
      "        [0.8557]])\n"
     ]
    }
   ],
   "source": [
    "y = torch.rand(8).unsqueeze(-1)\n",
    "print(y)"
   ]
  },
  {
   "cell_type": "code",
   "execution_count": 72,
   "metadata": {},
   "outputs": [
    {
     "data": {
      "text/plain": [
       "tensor([[0.1978, 0.3427, 0.2082, 0.2145],\n",
       "        [0.3777, 0.6545, 0.3977, 0.4097],\n",
       "        [0.3658, 0.6339, 0.3851, 0.3968],\n",
       "        [0.0855, 0.1482, 0.0900, 0.0928],\n",
       "        [0.0275, 0.0476, 0.0289, 0.0298],\n",
       "        [0.5568, 0.9648, 0.5861, 0.6039],\n",
       "        [0.1567, 0.2715, 0.1650, 0.1700],\n",
       "        [0.4855, 0.8413, 0.5111, 0.5266]])"
      ]
     },
     "execution_count": 72,
     "metadata": {},
     "output_type": "execute_result"
    }
   ],
   "source": [
    "(x * y)"
   ]
  },
  {
   "cell_type": "code",
   "execution_count": 74,
   "metadata": {},
   "outputs": [
    {
     "name": "stdout",
     "output_type": "stream",
     "text": [
      "tensor([[7],\n",
      "        [6],\n",
      "        [5],\n",
      "        [4],\n",
      "        [3],\n",
      "        [2],\n",
      "        [1],\n",
      "        [0]])\n"
     ]
    }
   ],
   "source": [
    "N_bits = 8\n",
    "t = torch.arange(start=N_bits-1, end=-1, step=-1).unsqueeze(-1)\n",
    "print(t)"
   ]
  },
  {
   "cell_type": "code",
   "execution_count": 75,
   "metadata": {},
   "outputs": [],
   "source": [
    "b_w = 2**t"
   ]
  },
  {
   "cell_type": "code",
   "execution_count": 76,
   "metadata": {},
   "outputs": [],
   "source": [
    "b_w[0] = -b_w[0]"
   ]
  },
  {
   "cell_type": "code",
   "execution_count": 77,
   "metadata": {},
   "outputs": [
    {
     "data": {
      "text/plain": [
       "tensor([[-128],\n",
       "        [  64],\n",
       "        [  32],\n",
       "        [  16],\n",
       "        [   8],\n",
       "        [   4],\n",
       "        [   2],\n",
       "        [   1]])"
      ]
     },
     "execution_count": 77,
     "metadata": {},
     "output_type": "execute_result"
    }
   ],
   "source": [
    "b_w"
   ]
  },
  {
   "cell_type": "code",
   "execution_count": null,
   "metadata": {},
   "outputs": [],
   "source": []
  }
 ],
 "metadata": {
  "kernelspec": {
   "display_name": "Python 3",
   "language": "python",
   "name": "python3"
  },
  "language_info": {
   "codemirror_mode": {
    "name": "ipython",
    "version": 3
   },
   "file_extension": ".py",
   "mimetype": "text/x-python",
   "name": "python",
   "nbconvert_exporter": "python",
   "pygments_lexer": "ipython3",
   "version": "3.6.8"
  }
 },
 "nbformat": 4,
 "nbformat_minor": 2
}
